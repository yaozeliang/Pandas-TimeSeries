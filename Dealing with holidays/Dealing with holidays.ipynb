{
 "cells": [
  {
   "cell_type": "markdown",
   "metadata": {},
   "source": [
    "## Handling Holidays"
   ]
  },
  {
   "cell_type": "code",
   "execution_count": 1,
   "metadata": {
    "scrolled": false
   },
   "outputs": [
    {
     "data": {
      "text/html": [
       "<div>\n",
       "<style scoped>\n",
       "    .dataframe tbody tr th:only-of-type {\n",
       "        vertical-align: middle;\n",
       "    }\n",
       "\n",
       "    .dataframe tbody tr th {\n",
       "        vertical-align: top;\n",
       "    }\n",
       "\n",
       "    .dataframe thead th {\n",
       "        text-align: right;\n",
       "    }\n",
       "</style>\n",
       "<table border=\"1\" class=\"dataframe\">\n",
       "  <thead>\n",
       "    <tr style=\"text-align: right;\">\n",
       "      <th></th>\n",
       "      <th>Open</th>\n",
       "      <th>High</th>\n",
       "      <th>Low</th>\n",
       "      <th>Close</th>\n",
       "      <th>Adj Close</th>\n",
       "      <th>Volume</th>\n",
       "    </tr>\n",
       "  </thead>\n",
       "  <tbody>\n",
       "    <tr>\n",
       "      <th>0</th>\n",
       "      <td>190.679993</td>\n",
       "      <td>191.960007</td>\n",
       "      <td>189.559998</td>\n",
       "      <td>191.610001</td>\n",
       "      <td>188.737030</td>\n",
       "      <td>15989400</td>\n",
       "    </tr>\n",
       "    <tr>\n",
       "      <th>1</th>\n",
       "      <td>192.449997</td>\n",
       "      <td>193.660004</td>\n",
       "      <td>192.050003</td>\n",
       "      <td>193.000000</td>\n",
       "      <td>190.106216</td>\n",
       "      <td>18697900</td>\n",
       "    </tr>\n",
       "    <tr>\n",
       "      <th>2</th>\n",
       "      <td>193.059998</td>\n",
       "      <td>194.850006</td>\n",
       "      <td>192.429993</td>\n",
       "      <td>194.820007</td>\n",
       "      <td>191.898926</td>\n",
       "      <td>16709900</td>\n",
       "    </tr>\n",
       "    <tr>\n",
       "      <th>3</th>\n",
       "      <td>194.610001</td>\n",
       "      <td>195.960007</td>\n",
       "      <td>193.610001</td>\n",
       "      <td>194.210007</td>\n",
       "      <td>191.298080</td>\n",
       "      <td>19076000</td>\n",
       "    </tr>\n",
       "    <tr>\n",
       "      <th>4</th>\n",
       "      <td>194.990005</td>\n",
       "      <td>195.190002</td>\n",
       "      <td>190.100006</td>\n",
       "      <td>190.979996</td>\n",
       "      <td>188.116501</td>\n",
       "      <td>24024000</td>\n",
       "    </tr>\n",
       "  </tbody>\n",
       "</table>\n",
       "</div>"
      ],
      "text/plain": [
       "         Open        High         Low       Close   Adj Close    Volume\n",
       "0  190.679993  191.960007  189.559998  191.610001  188.737030  15989400\n",
       "1  192.449997  193.660004  192.050003  193.000000  190.106216  18697900\n",
       "2  193.059998  194.850006  192.429993  194.820007  191.898926  16709900\n",
       "3  194.610001  195.960007  193.610001  194.210007  191.298080  19076000\n",
       "4  194.990005  195.190002  190.100006  190.979996  188.116501  24024000"
      ]
     },
     "execution_count": 1,
     "metadata": {},
     "output_type": "execute_result"
    }
   ],
   "source": [
    "import pandas as pd\n",
    "df = pd.read_csv(\"apple_stock_price_nodate.csv\")\n",
    "df.head()"
   ]
  },
  {
   "cell_type": "markdown",
   "metadata": {},
   "source": [
    "**Using 'B' frequency is not going to help because 4th July was holiday and 'B' is not taking that into account. \n",
    "It only accounts for weekends**"
   ]
  },
  {
   "cell_type": "markdown",
   "metadata": {},
   "source": [
    "## Using CustomBusinessDay to generate US holidays calendar frequency"
   ]
  },
  {
   "cell_type": "code",
   "execution_count": 2,
   "metadata": {},
   "outputs": [
    {
     "data": {
      "text/plain": [
       "DatetimeIndex(['2018-07-23', '2018-07-24', '2018-07-25', '2018-07-26',\n",
       "               '2018-07-27', '2018-07-30', '2018-07-31', '2018-08-01',\n",
       "               '2018-08-02', '2018-08-03',\n",
       "               ...\n",
       "               '2019-07-10', '2019-07-11', '2019-07-12', '2019-07-15',\n",
       "               '2019-07-16', '2019-07-17', '2019-07-18', '2019-07-19',\n",
       "               '2019-07-22', '2019-07-23'],\n",
       "              dtype='datetime64[ns]', length=252, freq='C')"
      ]
     },
     "execution_count": 2,
     "metadata": {},
     "output_type": "execute_result"
    }
   ],
   "source": [
    "from pandas.tseries.holiday import USFederalHolidayCalendar\n",
    "from pandas.tseries.offsets import CustomBusinessDay\n",
    "\n",
    "us_cal = CustomBusinessDay(calendar=USFederalHolidayCalendar())\n",
    "\n",
    "rng = pd.date_range(start=\"2018-07-23\",periods=df.shape[0],freq=us_cal)\n",
    "rng"
   ]
  },
  {
   "cell_type": "code",
   "execution_count": 4,
   "metadata": {},
   "outputs": [
    {
     "data": {
      "text/plain": [
       "(252, 252)"
      ]
     },
     "execution_count": 4,
     "metadata": {},
     "output_type": "execute_result"
    }
   ],
   "source": [
    "len(rng),len(df)"
   ]
  },
  {
   "cell_type": "code",
   "execution_count": 5,
   "metadata": {
    "scrolled": false
   },
   "outputs": [
    {
     "data": {
      "text/html": [
       "<div>\n",
       "<style scoped>\n",
       "    .dataframe tbody tr th:only-of-type {\n",
       "        vertical-align: middle;\n",
       "    }\n",
       "\n",
       "    .dataframe tbody tr th {\n",
       "        vertical-align: top;\n",
       "    }\n",
       "\n",
       "    .dataframe thead th {\n",
       "        text-align: right;\n",
       "    }\n",
       "</style>\n",
       "<table border=\"1\" class=\"dataframe\">\n",
       "  <thead>\n",
       "    <tr style=\"text-align: right;\">\n",
       "      <th></th>\n",
       "      <th>Open</th>\n",
       "      <th>High</th>\n",
       "      <th>Low</th>\n",
       "      <th>Close</th>\n",
       "      <th>Adj Close</th>\n",
       "      <th>Volume</th>\n",
       "    </tr>\n",
       "  </thead>\n",
       "  <tbody>\n",
       "    <tr>\n",
       "      <th>2018-07-23</th>\n",
       "      <td>190.679993</td>\n",
       "      <td>191.960007</td>\n",
       "      <td>189.559998</td>\n",
       "      <td>191.610001</td>\n",
       "      <td>188.737030</td>\n",
       "      <td>15989400</td>\n",
       "    </tr>\n",
       "    <tr>\n",
       "      <th>2018-07-24</th>\n",
       "      <td>192.449997</td>\n",
       "      <td>193.660004</td>\n",
       "      <td>192.050003</td>\n",
       "      <td>193.000000</td>\n",
       "      <td>190.106216</td>\n",
       "      <td>18697900</td>\n",
       "    </tr>\n",
       "    <tr>\n",
       "      <th>2018-07-25</th>\n",
       "      <td>193.059998</td>\n",
       "      <td>194.850006</td>\n",
       "      <td>192.429993</td>\n",
       "      <td>194.820007</td>\n",
       "      <td>191.898926</td>\n",
       "      <td>16709900</td>\n",
       "    </tr>\n",
       "    <tr>\n",
       "      <th>2018-07-26</th>\n",
       "      <td>194.610001</td>\n",
       "      <td>195.960007</td>\n",
       "      <td>193.610001</td>\n",
       "      <td>194.210007</td>\n",
       "      <td>191.298080</td>\n",
       "      <td>19076000</td>\n",
       "    </tr>\n",
       "    <tr>\n",
       "      <th>2018-07-27</th>\n",
       "      <td>194.990005</td>\n",
       "      <td>195.190002</td>\n",
       "      <td>190.100006</td>\n",
       "      <td>190.979996</td>\n",
       "      <td>188.116501</td>\n",
       "      <td>24024000</td>\n",
       "    </tr>\n",
       "  </tbody>\n",
       "</table>\n",
       "</div>"
      ],
      "text/plain": [
       "                  Open        High         Low       Close   Adj Close  \\\n",
       "2018-07-23  190.679993  191.960007  189.559998  191.610001  188.737030   \n",
       "2018-07-24  192.449997  193.660004  192.050003  193.000000  190.106216   \n",
       "2018-07-25  193.059998  194.850006  192.429993  194.820007  191.898926   \n",
       "2018-07-26  194.610001  195.960007  193.610001  194.210007  191.298080   \n",
       "2018-07-27  194.990005  195.190002  190.100006  190.979996  188.116501   \n",
       "\n",
       "              Volume  \n",
       "2018-07-23  15989400  \n",
       "2018-07-24  18697900  \n",
       "2018-07-25  16709900  \n",
       "2018-07-26  19076000  \n",
       "2018-07-27  24024000  "
      ]
     },
     "execution_count": 5,
     "metadata": {},
     "output_type": "execute_result"
    }
   ],
   "source": [
    "df.set_index(rng,inplace=True)\n",
    "df.head()"
   ]
  },
  {
   "cell_type": "markdown",
   "metadata": {},
   "source": [
    "**You can define your own calendar using AbstractHolidayCalendar as shown below. USFederalHolidayCalendar is the only calendar available in pandas library and it serves as an example for those who want to write their own custom calendars. Here is the link for USFederalHolidayCalendar implementation** https://github.com/pandas-dev/pandas/blob/master/pandas/tseries/holiday.py"
   ]
  },
  {
   "cell_type": "markdown",
   "metadata": {},
   "source": [
    "## AbstractHolidayCalendar"
   ]
  },
  {
   "cell_type": "code",
   "execution_count": 12,
   "metadata": {},
   "outputs": [
    {
     "data": {
      "text/plain": [
       "DatetimeIndex(['2019-05-01', '2019-05-02', '2019-05-03', '2019-05-06',\n",
       "               '2019-05-07', '2019-05-08', '2019-05-09', '2019-05-10',\n",
       "               '2019-05-14', '2019-05-15', '2019-05-16', '2019-05-17',\n",
       "               '2019-05-20', '2019-05-21', '2019-05-22', '2019-05-23',\n",
       "               '2019-05-24', '2019-05-27', '2019-05-28', '2019-05-29',\n",
       "               '2019-05-30', '2019-05-31'],\n",
       "              dtype='datetime64[ns]', freq='C')"
      ]
     },
     "execution_count": 12,
     "metadata": {},
     "output_type": "execute_result"
    }
   ],
   "source": [
    "from pandas.tseries.holiday import AbstractHolidayCalendar, nearest_workday, Holiday\n",
    "class myCalendar(AbstractHolidayCalendar):\n",
    "    rules = [\n",
    "        Holiday('My Birth Day', month=5, day=13),#, observance=nearest_workday),\n",
    "    ]\n",
    "    \n",
    "my_bday = CustomBusinessDay(calendar=myCalendar())\n",
    "\n",
    "pd.date_range('5/1/2019','6/1/2019',freq=my_bday)"
   ]
  },
  {
   "cell_type": "markdown",
   "metadata": {},
   "source": [
    "## CustomBusinessDay"
   ]
  },
  {
   "cell_type": "markdown",
   "metadata": {},
   "source": [
    "#### **Weekend in egypt is Friday and Saturday. Sunday is just a normal weekday and you can handle this custom week schedule using CystomBysinessDay with weekmask as shown below**"
   ]
  },
  {
   "cell_type": "code",
   "execution_count": 15,
   "metadata": {
    "scrolled": true
   },
   "outputs": [
    {
     "data": {
      "text/plain": [
       "DatetimeIndex(['2018-07-01', '2018-07-02', '2018-07-03', '2018-07-04',\n",
       "               '2018-07-05', '2018-07-08', '2018-07-09', '2018-07-10',\n",
       "               '2018-07-11', '2018-07-12', '2018-07-15', '2018-07-16',\n",
       "               '2018-07-17', '2018-07-18', '2018-07-19', '2018-07-22',\n",
       "               '2018-07-23', '2018-07-24', '2018-07-25', '2018-07-26'],\n",
       "              dtype='datetime64[ns]', freq='C')"
      ]
     },
     "execution_count": 15,
     "metadata": {},
     "output_type": "execute_result"
    }
   ],
   "source": [
    "egypt_weekdays = \"Sun Mon Tue Wed Thu\"\n",
    "\n",
    "b = CustomBusinessDay(weekmask=egypt_weekdays)\n",
    "\n",
    "pd.date_range(start=\"7/1/2018\",periods=20,freq=b)"
   ]
  },
  {
   "cell_type": "markdown",
   "metadata": {},
   "source": [
    "#### **You can also add holidays to this custom business day frequency**"
   ]
  },
  {
   "cell_type": "code",
   "execution_count": 17,
   "metadata": {},
   "outputs": [
    {
     "data": {
      "text/plain": [
       "DatetimeIndex(['2018-08-01', '2018-08-02', '2018-08-06', '2018-08-07',\n",
       "               '2018-08-08', '2018-08-09', '2018-08-12', '2018-08-13',\n",
       "               '2018-08-14', '2018-08-15', '2018-08-16', '2018-08-19',\n",
       "               '2018-08-20', '2018-08-21', '2018-08-22', '2018-08-23',\n",
       "               '2018-08-26', '2018-08-27', '2018-08-28', '2018-08-29'],\n",
       "              dtype='datetime64[ns]', freq='C')"
      ]
     },
     "execution_count": 17,
     "metadata": {},
     "output_type": "execute_result"
    }
   ],
   "source": [
    "b = CustomBusinessDay(holidays=['2018-08-04', '2018-08-05'], weekmask=egypt_weekdays)\n",
    "\n",
    "pd.date_range(start=\"8/1/2018\",periods=20,freq=b)"
   ]
  },
  {
   "cell_type": "markdown",
   "metadata": {},
   "source": [
    "#### **Mathematical operations on date object using custom business day**"
   ]
  },
  {
   "cell_type": "code",
   "execution_count": 18,
   "metadata": {
    "scrolled": true
   },
   "outputs": [
    {
     "data": {
      "text/plain": [
       "datetime.datetime(2017, 7, 9, 0, 0)"
      ]
     },
     "execution_count": 18,
     "metadata": {},
     "output_type": "execute_result"
    }
   ],
   "source": [
    "from datetime import datetime\n",
    "dt = datetime(2017,7,9)\n",
    "dt"
   ]
  },
  {
   "cell_type": "code",
   "execution_count": 19,
   "metadata": {},
   "outputs": [
    {
     "data": {
      "text/plain": [
       "Timestamp('2017-07-10 00:00:00')"
      ]
     },
     "execution_count": 19,
     "metadata": {},
     "output_type": "execute_result"
    }
   ],
   "source": [
    "dt + 1*b"
   ]
  }
 ],
 "metadata": {
  "anaconda-cloud": {},
  "kernelspec": {
   "display_name": "Python 3",
   "language": "python",
   "name": "python3"
  },
  "language_info": {
   "codemirror_mode": {
    "name": "ipython",
    "version": 3
   },
   "file_extension": ".py",
   "mimetype": "text/x-python",
   "name": "python",
   "nbconvert_exporter": "python",
   "pygments_lexer": "ipython3",
   "version": "3.7.3"
  }
 },
 "nbformat": 4,
 "nbformat_minor": 1
}
