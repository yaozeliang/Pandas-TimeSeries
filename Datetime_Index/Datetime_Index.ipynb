{
 "cells": [
  {
   "cell_type": "markdown",
   "metadata": {},
   "source": [
    "## DateTimeIndex "
   ]
  },
  {
   "cell_type": "code",
   "execution_count": 15,
   "metadata": {
    "scrolled": false
   },
   "outputs": [
    {
     "data": {
      "text/html": [
       "<div>\n",
       "<style scoped>\n",
       "    .dataframe tbody tr th:only-of-type {\n",
       "        vertical-align: middle;\n",
       "    }\n",
       "\n",
       "    .dataframe tbody tr th {\n",
       "        vertical-align: top;\n",
       "    }\n",
       "\n",
       "    .dataframe thead th {\n",
       "        text-align: right;\n",
       "    }\n",
       "</style>\n",
       "<table border=\"1\" class=\"dataframe\">\n",
       "  <thead>\n",
       "    <tr style=\"text-align: right;\">\n",
       "      <th></th>\n",
       "      <th>Open</th>\n",
       "      <th>High</th>\n",
       "      <th>Low</th>\n",
       "      <th>Close</th>\n",
       "      <th>Adj Close</th>\n",
       "      <th>Volume</th>\n",
       "    </tr>\n",
       "    <tr>\n",
       "      <th>Date</th>\n",
       "      <th></th>\n",
       "      <th></th>\n",
       "      <th></th>\n",
       "      <th></th>\n",
       "      <th></th>\n",
       "      <th></th>\n",
       "    </tr>\n",
       "  </thead>\n",
       "  <tbody>\n",
       "    <tr>\n",
       "      <th>2018-07-23</th>\n",
       "      <td>190.679993</td>\n",
       "      <td>191.960007</td>\n",
       "      <td>189.559998</td>\n",
       "      <td>191.610001</td>\n",
       "      <td>188.737030</td>\n",
       "      <td>15989400</td>\n",
       "    </tr>\n",
       "    <tr>\n",
       "      <th>2018-07-24</th>\n",
       "      <td>192.449997</td>\n",
       "      <td>193.660004</td>\n",
       "      <td>192.050003</td>\n",
       "      <td>193.000000</td>\n",
       "      <td>190.106216</td>\n",
       "      <td>18697900</td>\n",
       "    </tr>\n",
       "  </tbody>\n",
       "</table>\n",
       "</div>"
      ],
      "text/plain": [
       "                  Open        High         Low       Close   Adj Close  \\\n",
       "Date                                                                     \n",
       "2018-07-23  190.679993  191.960007  189.559998  191.610001  188.737030   \n",
       "2018-07-24  192.449997  193.660004  192.050003  193.000000  190.106216   \n",
       "\n",
       "              Volume  \n",
       "Date                  \n",
       "2018-07-23  15989400  \n",
       "2018-07-24  18697900  "
      ]
     },
     "execution_count": 15,
     "metadata": {},
     "output_type": "execute_result"
    }
   ],
   "source": [
    "import pandas as pd\n",
    "df = pd.read_csv(\"apple_stock_price.csv\",parse_dates=[\"Date\"], index_col=\"Date\")\n",
    "df.head(2)"
   ]
  },
  {
   "cell_type": "code",
   "execution_count": 16,
   "metadata": {},
   "outputs": [
    {
     "data": {
      "text/plain": [
       "DatetimeIndex(['2018-07-23', '2018-07-24', '2018-07-25', '2018-07-26',\n",
       "               '2018-07-27', '2018-07-30', '2018-07-31', '2018-08-01',\n",
       "               '2018-08-02', '2018-08-03',\n",
       "               ...\n",
       "               '2019-07-10', '2019-07-11', '2019-07-12', '2019-07-15',\n",
       "               '2019-07-16', '2019-07-17', '2019-07-18', '2019-07-19',\n",
       "               '2019-07-22', '2019-07-23'],\n",
       "              dtype='datetime64[ns]', name='Date', length=252, freq=None)"
      ]
     },
     "execution_count": 16,
     "metadata": {},
     "output_type": "execute_result"
    }
   ],
   "source": [
    "df.index"
   ]
  },
  {
   "cell_type": "markdown",
   "metadata": {},
   "source": [
    "## What is DatetimeIndex? Benefits of it"
   ]
  },
  {
   "cell_type": "markdown",
   "metadata": {},
   "source": [
    "#### (1) Partial Date Index: Select Specific Months Data"
   ]
  },
  {
   "cell_type": "code",
   "execution_count": 21,
   "metadata": {
    "scrolled": false
   },
   "outputs": [
    {
     "data": {
      "text/html": [
       "<div>\n",
       "<style scoped>\n",
       "    .dataframe tbody tr th:only-of-type {\n",
       "        vertical-align: middle;\n",
       "    }\n",
       "\n",
       "    .dataframe tbody tr th {\n",
       "        vertical-align: top;\n",
       "    }\n",
       "\n",
       "    .dataframe thead th {\n",
       "        text-align: right;\n",
       "    }\n",
       "</style>\n",
       "<table border=\"1\" class=\"dataframe\">\n",
       "  <thead>\n",
       "    <tr style=\"text-align: right;\">\n",
       "      <th></th>\n",
       "      <th>Open</th>\n",
       "      <th>High</th>\n",
       "      <th>Low</th>\n",
       "      <th>Close</th>\n",
       "      <th>Adj Close</th>\n",
       "      <th>Volume</th>\n",
       "    </tr>\n",
       "    <tr>\n",
       "      <th>Date</th>\n",
       "      <th></th>\n",
       "      <th></th>\n",
       "      <th></th>\n",
       "      <th></th>\n",
       "      <th></th>\n",
       "      <th></th>\n",
       "    </tr>\n",
       "  </thead>\n",
       "  <tbody>\n",
       "    <tr>\n",
       "      <th>2019-07-01</th>\n",
       "      <td>203.169998</td>\n",
       "      <td>204.490005</td>\n",
       "      <td>200.649994</td>\n",
       "      <td>201.550003</td>\n",
       "      <td>201.550003</td>\n",
       "      <td>27316700</td>\n",
       "    </tr>\n",
       "    <tr>\n",
       "      <th>2019-07-02</th>\n",
       "      <td>201.410004</td>\n",
       "      <td>203.130005</td>\n",
       "      <td>201.360001</td>\n",
       "      <td>202.729996</td>\n",
       "      <td>202.729996</td>\n",
       "      <td>16935200</td>\n",
       "    </tr>\n",
       "    <tr>\n",
       "      <th>2019-07-03</th>\n",
       "      <td>203.279999</td>\n",
       "      <td>204.440002</td>\n",
       "      <td>202.690002</td>\n",
       "      <td>204.410004</td>\n",
       "      <td>204.410004</td>\n",
       "      <td>11362000</td>\n",
       "    </tr>\n",
       "    <tr>\n",
       "      <th>2019-07-05</th>\n",
       "      <td>203.350006</td>\n",
       "      <td>205.080002</td>\n",
       "      <td>202.899994</td>\n",
       "      <td>204.229996</td>\n",
       "      <td>204.229996</td>\n",
       "      <td>17265500</td>\n",
       "    </tr>\n",
       "    <tr>\n",
       "      <th>2019-07-08</th>\n",
       "      <td>200.809998</td>\n",
       "      <td>201.399994</td>\n",
       "      <td>198.410004</td>\n",
       "      <td>200.020004</td>\n",
       "      <td>200.020004</td>\n",
       "      <td>25338600</td>\n",
       "    </tr>\n",
       "    <tr>\n",
       "      <th>2019-07-09</th>\n",
       "      <td>199.199997</td>\n",
       "      <td>201.509995</td>\n",
       "      <td>198.809998</td>\n",
       "      <td>201.240005</td>\n",
       "      <td>201.240005</td>\n",
       "      <td>20578000</td>\n",
       "    </tr>\n",
       "    <tr>\n",
       "      <th>2019-07-10</th>\n",
       "      <td>201.850006</td>\n",
       "      <td>203.729996</td>\n",
       "      <td>201.559998</td>\n",
       "      <td>203.229996</td>\n",
       "      <td>203.229996</td>\n",
       "      <td>17897100</td>\n",
       "    </tr>\n",
       "    <tr>\n",
       "      <th>2019-07-11</th>\n",
       "      <td>203.309998</td>\n",
       "      <td>204.389999</td>\n",
       "      <td>201.710007</td>\n",
       "      <td>201.750000</td>\n",
       "      <td>201.750000</td>\n",
       "      <td>20191800</td>\n",
       "    </tr>\n",
       "    <tr>\n",
       "      <th>2019-07-12</th>\n",
       "      <td>202.449997</td>\n",
       "      <td>204.000000</td>\n",
       "      <td>202.199997</td>\n",
       "      <td>203.300003</td>\n",
       "      <td>203.300003</td>\n",
       "      <td>17595200</td>\n",
       "    </tr>\n",
       "    <tr>\n",
       "      <th>2019-07-15</th>\n",
       "      <td>204.089996</td>\n",
       "      <td>205.869995</td>\n",
       "      <td>204.000000</td>\n",
       "      <td>205.210007</td>\n",
       "      <td>205.210007</td>\n",
       "      <td>16947400</td>\n",
       "    </tr>\n",
       "    <tr>\n",
       "      <th>2019-07-16</th>\n",
       "      <td>204.589996</td>\n",
       "      <td>206.110001</td>\n",
       "      <td>203.500000</td>\n",
       "      <td>204.500000</td>\n",
       "      <td>204.500000</td>\n",
       "      <td>16866800</td>\n",
       "    </tr>\n",
       "    <tr>\n",
       "      <th>2019-07-17</th>\n",
       "      <td>204.050003</td>\n",
       "      <td>205.089996</td>\n",
       "      <td>203.270004</td>\n",
       "      <td>203.350006</td>\n",
       "      <td>203.350006</td>\n",
       "      <td>14107500</td>\n",
       "    </tr>\n",
       "    <tr>\n",
       "      <th>2019-07-18</th>\n",
       "      <td>204.000000</td>\n",
       "      <td>205.880005</td>\n",
       "      <td>203.699997</td>\n",
       "      <td>205.660004</td>\n",
       "      <td>205.660004</td>\n",
       "      <td>18582200</td>\n",
       "    </tr>\n",
       "    <tr>\n",
       "      <th>2019-07-19</th>\n",
       "      <td>205.789993</td>\n",
       "      <td>206.500000</td>\n",
       "      <td>202.360001</td>\n",
       "      <td>202.589996</td>\n",
       "      <td>202.589996</td>\n",
       "      <td>20929300</td>\n",
       "    </tr>\n",
       "    <tr>\n",
       "      <th>2019-07-22</th>\n",
       "      <td>203.649994</td>\n",
       "      <td>207.229996</td>\n",
       "      <td>203.610001</td>\n",
       "      <td>207.220001</td>\n",
       "      <td>207.220001</td>\n",
       "      <td>22241300</td>\n",
       "    </tr>\n",
       "    <tr>\n",
       "      <th>2019-07-23</th>\n",
       "      <td>208.460007</td>\n",
       "      <td>208.789993</td>\n",
       "      <td>207.440002</td>\n",
       "      <td>208.126907</td>\n",
       "      <td>208.126907</td>\n",
       "      <td>5728710</td>\n",
       "    </tr>\n",
       "  </tbody>\n",
       "</table>\n",
       "</div>"
      ],
      "text/plain": [
       "                  Open        High         Low       Close   Adj Close  \\\n",
       "Date                                                                     \n",
       "2019-07-01  203.169998  204.490005  200.649994  201.550003  201.550003   \n",
       "2019-07-02  201.410004  203.130005  201.360001  202.729996  202.729996   \n",
       "2019-07-03  203.279999  204.440002  202.690002  204.410004  204.410004   \n",
       "2019-07-05  203.350006  205.080002  202.899994  204.229996  204.229996   \n",
       "2019-07-08  200.809998  201.399994  198.410004  200.020004  200.020004   \n",
       "2019-07-09  199.199997  201.509995  198.809998  201.240005  201.240005   \n",
       "2019-07-10  201.850006  203.729996  201.559998  203.229996  203.229996   \n",
       "2019-07-11  203.309998  204.389999  201.710007  201.750000  201.750000   \n",
       "2019-07-12  202.449997  204.000000  202.199997  203.300003  203.300003   \n",
       "2019-07-15  204.089996  205.869995  204.000000  205.210007  205.210007   \n",
       "2019-07-16  204.589996  206.110001  203.500000  204.500000  204.500000   \n",
       "2019-07-17  204.050003  205.089996  203.270004  203.350006  203.350006   \n",
       "2019-07-18  204.000000  205.880005  203.699997  205.660004  205.660004   \n",
       "2019-07-19  205.789993  206.500000  202.360001  202.589996  202.589996   \n",
       "2019-07-22  203.649994  207.229996  203.610001  207.220001  207.220001   \n",
       "2019-07-23  208.460007  208.789993  207.440002  208.126907  208.126907   \n",
       "\n",
       "              Volume  \n",
       "Date                  \n",
       "2019-07-01  27316700  \n",
       "2019-07-02  16935200  \n",
       "2019-07-03  11362000  \n",
       "2019-07-05  17265500  \n",
       "2019-07-08  25338600  \n",
       "2019-07-09  20578000  \n",
       "2019-07-10  17897100  \n",
       "2019-07-11  20191800  \n",
       "2019-07-12  17595200  \n",
       "2019-07-15  16947400  \n",
       "2019-07-16  16866800  \n",
       "2019-07-17  14107500  \n",
       "2019-07-18  18582200  \n",
       "2019-07-19  20929300  \n",
       "2019-07-22  22241300  \n",
       "2019-07-23   5728710  "
      ]
     },
     "execution_count": 21,
     "metadata": {},
     "output_type": "execute_result"
    }
   ],
   "source": [
    "df[\"2019-07\"]"
   ]
  },
  {
   "cell_type": "markdown",
   "metadata": {},
   "source": [
    "#### (2) Average price of aapl's stock in June, 2019"
   ]
  },
  {
   "cell_type": "code",
   "execution_count": 26,
   "metadata": {},
   "outputs": [
    {
     "data": {
      "text/plain": [
       "192.96900015"
      ]
     },
     "execution_count": 26,
     "metadata": {},
     "output_type": "execute_result"
    }
   ],
   "source": [
    "df['2019-06'].Close.mean()"
   ]
  },
  {
   "cell_type": "code",
   "execution_count": 27,
   "metadata": {
    "scrolled": true
   },
   "outputs": [
    {
     "data": {
      "text/html": [
       "<div>\n",
       "<style scoped>\n",
       "    .dataframe tbody tr th:only-of-type {\n",
       "        vertical-align: middle;\n",
       "    }\n",
       "\n",
       "    .dataframe tbody tr th {\n",
       "        vertical-align: top;\n",
       "    }\n",
       "\n",
       "    .dataframe thead th {\n",
       "        text-align: right;\n",
       "    }\n",
       "</style>\n",
       "<table border=\"1\" class=\"dataframe\">\n",
       "  <thead>\n",
       "    <tr style=\"text-align: right;\">\n",
       "      <th></th>\n",
       "      <th>Open</th>\n",
       "      <th>High</th>\n",
       "      <th>Low</th>\n",
       "      <th>Close</th>\n",
       "      <th>Adj Close</th>\n",
       "      <th>Volume</th>\n",
       "    </tr>\n",
       "    <tr>\n",
       "      <th>Date</th>\n",
       "      <th></th>\n",
       "      <th></th>\n",
       "      <th></th>\n",
       "      <th></th>\n",
       "      <th></th>\n",
       "      <th></th>\n",
       "    </tr>\n",
       "  </thead>\n",
       "  <tbody>\n",
       "    <tr>\n",
       "      <th>2019-01-02</th>\n",
       "      <td>154.889999</td>\n",
       "      <td>158.850006</td>\n",
       "      <td>154.229996</td>\n",
       "      <td>157.919998</td>\n",
       "      <td>156.642365</td>\n",
       "      <td>37039700</td>\n",
       "    </tr>\n",
       "    <tr>\n",
       "      <th>2019-01-03</th>\n",
       "      <td>143.979996</td>\n",
       "      <td>145.720001</td>\n",
       "      <td>142.000000</td>\n",
       "      <td>142.190002</td>\n",
       "      <td>141.039642</td>\n",
       "      <td>91312200</td>\n",
       "    </tr>\n",
       "  </tbody>\n",
       "</table>\n",
       "</div>"
      ],
      "text/plain": [
       "                  Open        High         Low       Close   Adj Close  \\\n",
       "Date                                                                     \n",
       "2019-01-02  154.889999  158.850006  154.229996  157.919998  156.642365   \n",
       "2019-01-03  143.979996  145.720001  142.000000  142.190002  141.039642   \n",
       "\n",
       "              Volume  \n",
       "Date                  \n",
       "2019-01-02  37039700  \n",
       "2019-01-03  91312200  "
      ]
     },
     "execution_count": 27,
     "metadata": {},
     "output_type": "execute_result"
    }
   ],
   "source": [
    "df['2019'].head(2) "
   ]
  },
  {
   "cell_type": "markdown",
   "metadata": {},
   "source": [
    "<h4>(2) Select Date Range</h4>"
   ]
  },
  {
   "cell_type": "code",
   "execution_count": 29,
   "metadata": {
    "scrolled": true
   },
   "outputs": [
    {
     "data": {
      "text/html": [
       "<div>\n",
       "<style scoped>\n",
       "    .dataframe tbody tr th:only-of-type {\n",
       "        vertical-align: middle;\n",
       "    }\n",
       "\n",
       "    .dataframe tbody tr th {\n",
       "        vertical-align: top;\n",
       "    }\n",
       "\n",
       "    .dataframe thead th {\n",
       "        text-align: right;\n",
       "    }\n",
       "</style>\n",
       "<table border=\"1\" class=\"dataframe\">\n",
       "  <thead>\n",
       "    <tr style=\"text-align: right;\">\n",
       "      <th></th>\n",
       "      <th>Open</th>\n",
       "      <th>High</th>\n",
       "      <th>Low</th>\n",
       "      <th>Close</th>\n",
       "      <th>Adj Close</th>\n",
       "      <th>Volume</th>\n",
       "    </tr>\n",
       "    <tr>\n",
       "      <th>Date</th>\n",
       "      <th></th>\n",
       "      <th></th>\n",
       "      <th></th>\n",
       "      <th></th>\n",
       "      <th></th>\n",
       "      <th></th>\n",
       "    </tr>\n",
       "  </thead>\n",
       "  <tbody>\n",
       "    <tr>\n",
       "      <th>2018-12-10</th>\n",
       "      <td>165.000000</td>\n",
       "      <td>170.089996</td>\n",
       "      <td>163.330002</td>\n",
       "      <td>169.600006</td>\n",
       "      <td>168.227890</td>\n",
       "      <td>62026000</td>\n",
       "    </tr>\n",
       "    <tr>\n",
       "      <th>2018-12-11</th>\n",
       "      <td>171.660004</td>\n",
       "      <td>171.789993</td>\n",
       "      <td>167.000000</td>\n",
       "      <td>168.630005</td>\n",
       "      <td>167.265732</td>\n",
       "      <td>47281700</td>\n",
       "    </tr>\n",
       "    <tr>\n",
       "      <th>2018-12-12</th>\n",
       "      <td>170.399994</td>\n",
       "      <td>171.919998</td>\n",
       "      <td>169.020004</td>\n",
       "      <td>169.100006</td>\n",
       "      <td>167.731934</td>\n",
       "      <td>35627700</td>\n",
       "    </tr>\n",
       "    <tr>\n",
       "      <th>2018-12-13</th>\n",
       "      <td>170.490005</td>\n",
       "      <td>172.570007</td>\n",
       "      <td>169.550003</td>\n",
       "      <td>170.949997</td>\n",
       "      <td>169.566956</td>\n",
       "      <td>31898600</td>\n",
       "    </tr>\n",
       "    <tr>\n",
       "      <th>2018-12-14</th>\n",
       "      <td>169.000000</td>\n",
       "      <td>169.080002</td>\n",
       "      <td>165.279999</td>\n",
       "      <td>165.479996</td>\n",
       "      <td>164.141220</td>\n",
       "      <td>40703700</td>\n",
       "    </tr>\n",
       "    <tr>\n",
       "      <th>2018-12-17</th>\n",
       "      <td>165.449997</td>\n",
       "      <td>168.350006</td>\n",
       "      <td>162.729996</td>\n",
       "      <td>163.940002</td>\n",
       "      <td>162.613678</td>\n",
       "      <td>44287900</td>\n",
       "    </tr>\n",
       "    <tr>\n",
       "      <th>2018-12-18</th>\n",
       "      <td>165.380005</td>\n",
       "      <td>167.529999</td>\n",
       "      <td>164.389999</td>\n",
       "      <td>166.070007</td>\n",
       "      <td>164.726440</td>\n",
       "      <td>33841500</td>\n",
       "    </tr>\n",
       "    <tr>\n",
       "      <th>2018-12-19</th>\n",
       "      <td>166.000000</td>\n",
       "      <td>167.449997</td>\n",
       "      <td>159.089996</td>\n",
       "      <td>160.889999</td>\n",
       "      <td>159.588348</td>\n",
       "      <td>49047300</td>\n",
       "    </tr>\n",
       "    <tr>\n",
       "      <th>2018-12-20</th>\n",
       "      <td>160.399994</td>\n",
       "      <td>162.110001</td>\n",
       "      <td>155.300003</td>\n",
       "      <td>156.830002</td>\n",
       "      <td>155.561188</td>\n",
       "      <td>64773000</td>\n",
       "    </tr>\n",
       "    <tr>\n",
       "      <th>2018-12-21</th>\n",
       "      <td>156.860001</td>\n",
       "      <td>158.160004</td>\n",
       "      <td>149.630005</td>\n",
       "      <td>150.729996</td>\n",
       "      <td>149.510544</td>\n",
       "      <td>95744600</td>\n",
       "    </tr>\n",
       "    <tr>\n",
       "      <th>2018-12-24</th>\n",
       "      <td>148.149994</td>\n",
       "      <td>151.550003</td>\n",
       "      <td>146.589996</td>\n",
       "      <td>146.830002</td>\n",
       "      <td>145.642090</td>\n",
       "      <td>37169200</td>\n",
       "    </tr>\n",
       "    <tr>\n",
       "      <th>2018-12-26</th>\n",
       "      <td>148.300003</td>\n",
       "      <td>157.229996</td>\n",
       "      <td>146.720001</td>\n",
       "      <td>157.169998</td>\n",
       "      <td>155.898438</td>\n",
       "      <td>58582500</td>\n",
       "    </tr>\n",
       "    <tr>\n",
       "      <th>2018-12-27</th>\n",
       "      <td>155.839996</td>\n",
       "      <td>156.770004</td>\n",
       "      <td>150.070007</td>\n",
       "      <td>156.149994</td>\n",
       "      <td>154.886688</td>\n",
       "      <td>53117100</td>\n",
       "    </tr>\n",
       "    <tr>\n",
       "      <th>2018-12-28</th>\n",
       "      <td>157.500000</td>\n",
       "      <td>158.520004</td>\n",
       "      <td>154.550003</td>\n",
       "      <td>156.229996</td>\n",
       "      <td>154.966034</td>\n",
       "      <td>42291400</td>\n",
       "    </tr>\n",
       "    <tr>\n",
       "      <th>2018-12-31</th>\n",
       "      <td>158.529999</td>\n",
       "      <td>159.360001</td>\n",
       "      <td>156.479996</td>\n",
       "      <td>157.740005</td>\n",
       "      <td>156.463837</td>\n",
       "      <td>35003500</td>\n",
       "    </tr>\n",
       "    <tr>\n",
       "      <th>2019-01-02</th>\n",
       "      <td>154.889999</td>\n",
       "      <td>158.850006</td>\n",
       "      <td>154.229996</td>\n",
       "      <td>157.919998</td>\n",
       "      <td>156.642365</td>\n",
       "      <td>37039700</td>\n",
       "    </tr>\n",
       "    <tr>\n",
       "      <th>2019-01-03</th>\n",
       "      <td>143.979996</td>\n",
       "      <td>145.720001</td>\n",
       "      <td>142.000000</td>\n",
       "      <td>142.190002</td>\n",
       "      <td>141.039642</td>\n",
       "      <td>91312200</td>\n",
       "    </tr>\n",
       "    <tr>\n",
       "      <th>2019-01-04</th>\n",
       "      <td>144.529999</td>\n",
       "      <td>148.550003</td>\n",
       "      <td>143.800003</td>\n",
       "      <td>148.259995</td>\n",
       "      <td>147.060516</td>\n",
       "      <td>58607100</td>\n",
       "    </tr>\n",
       "    <tr>\n",
       "      <th>2019-01-07</th>\n",
       "      <td>148.699997</td>\n",
       "      <td>148.830002</td>\n",
       "      <td>145.899994</td>\n",
       "      <td>147.929993</td>\n",
       "      <td>146.733185</td>\n",
       "      <td>54777800</td>\n",
       "    </tr>\n",
       "    <tr>\n",
       "      <th>2019-01-08</th>\n",
       "      <td>149.559998</td>\n",
       "      <td>151.820007</td>\n",
       "      <td>148.520004</td>\n",
       "      <td>150.750000</td>\n",
       "      <td>149.530380</td>\n",
       "      <td>41025300</td>\n",
       "    </tr>\n",
       "  </tbody>\n",
       "</table>\n",
       "</div>"
      ],
      "text/plain": [
       "                  Open        High         Low       Close   Adj Close  \\\n",
       "Date                                                                     \n",
       "2018-12-10  165.000000  170.089996  163.330002  169.600006  168.227890   \n",
       "2018-12-11  171.660004  171.789993  167.000000  168.630005  167.265732   \n",
       "2018-12-12  170.399994  171.919998  169.020004  169.100006  167.731934   \n",
       "2018-12-13  170.490005  172.570007  169.550003  170.949997  169.566956   \n",
       "2018-12-14  169.000000  169.080002  165.279999  165.479996  164.141220   \n",
       "2018-12-17  165.449997  168.350006  162.729996  163.940002  162.613678   \n",
       "2018-12-18  165.380005  167.529999  164.389999  166.070007  164.726440   \n",
       "2018-12-19  166.000000  167.449997  159.089996  160.889999  159.588348   \n",
       "2018-12-20  160.399994  162.110001  155.300003  156.830002  155.561188   \n",
       "2018-12-21  156.860001  158.160004  149.630005  150.729996  149.510544   \n",
       "2018-12-24  148.149994  151.550003  146.589996  146.830002  145.642090   \n",
       "2018-12-26  148.300003  157.229996  146.720001  157.169998  155.898438   \n",
       "2018-12-27  155.839996  156.770004  150.070007  156.149994  154.886688   \n",
       "2018-12-28  157.500000  158.520004  154.550003  156.229996  154.966034   \n",
       "2018-12-31  158.529999  159.360001  156.479996  157.740005  156.463837   \n",
       "2019-01-02  154.889999  158.850006  154.229996  157.919998  156.642365   \n",
       "2019-01-03  143.979996  145.720001  142.000000  142.190002  141.039642   \n",
       "2019-01-04  144.529999  148.550003  143.800003  148.259995  147.060516   \n",
       "2019-01-07  148.699997  148.830002  145.899994  147.929993  146.733185   \n",
       "2019-01-08  149.559998  151.820007  148.520004  150.750000  149.530380   \n",
       "\n",
       "              Volume  \n",
       "Date                  \n",
       "2018-12-10  62026000  \n",
       "2018-12-11  47281700  \n",
       "2018-12-12  35627700  \n",
       "2018-12-13  31898600  \n",
       "2018-12-14  40703700  \n",
       "2018-12-17  44287900  \n",
       "2018-12-18  33841500  \n",
       "2018-12-19  49047300  \n",
       "2018-12-20  64773000  \n",
       "2018-12-21  95744600  \n",
       "2018-12-24  37169200  \n",
       "2018-12-26  58582500  \n",
       "2018-12-27  53117100  \n",
       "2018-12-28  42291400  \n",
       "2018-12-31  35003500  \n",
       "2019-01-02  37039700  \n",
       "2019-01-03  91312200  \n",
       "2019-01-04  58607100  \n",
       "2019-01-07  54777800  \n",
       "2019-01-08  41025300  "
      ]
     },
     "execution_count": 29,
     "metadata": {},
     "output_type": "execute_result"
    }
   ],
   "source": [
    "df['2018-12-08':'2019-01-08']"
   ]
  },
  {
   "cell_type": "markdown",
   "metadata": {},
   "source": [
    "#### Resampling"
   ]
  },
  {
   "cell_type": "code",
   "execution_count": 30,
   "metadata": {
    "scrolled": false
   },
   "outputs": [
    {
     "data": {
      "text/plain": [
       "Date\n",
       "2018-07-31    192.117144\n",
       "2018-08-31    213.346089\n",
       "2018-09-30    222.073685\n",
       "2018-10-31    220.845652\n",
       "2018-11-30    191.235714\n",
       "Freq: M, Name: Close, dtype: float64"
      ]
     },
     "execution_count": 30,
     "metadata": {},
     "output_type": "execute_result"
    }
   ],
   "source": [
    "df['Close'].resample('M').mean().head()"
   ]
  },
  {
   "cell_type": "markdown",
   "metadata": {},
   "source": [
    "#### Draw plot with matplotlib"
   ]
  },
  {
   "cell_type": "code",
   "execution_count": 36,
   "metadata": {
    "scrolled": true
   },
   "outputs": [
    {
     "data": {
      "text/plain": [
       "<matplotlib.axes._subplots.AxesSubplot at 0x1f0b45b7da0>"
      ]
     },
     "execution_count": 36,
     "metadata": {},
     "output_type": "execute_result"
    },
    {
     "data": {
      "image/png": "[encoded data removed]",
      "text/plain": [
       "<Figure size 432x288 with 1 Axes>"
      ]
     },
     "metadata": {
      "needs_background": "light"
     },
     "output_type": "display_data"
    }
   ],
   "source": [
    "# By day\n",
    "%matplotlib inline\n",
    "df['Close'].plot()"
   ]
  },
  {
   "cell_type": "code",
   "execution_count": 35,
   "metadata": {
    "scrolled": true
   },
   "outputs": [
    {
     "data": {
      "text/plain": [
       "<matplotlib.axes._subplots.AxesSubplot at 0x1f0b453cf60>"
      ]
     },
     "execution_count": 35,
     "metadata": {},
     "output_type": "execute_result"
    },
    {
     "data": {
      "image/png": "[encoded data removed]",
      "text/plain": [
       "<Figure size 432x288 with 1 Axes>"
      ]
     },
     "metadata": {
      "needs_background": "light"
     },
     "output_type": "display_data"
    }
   ],
   "source": [
    "# By month\n",
    "df['Close'].resample('M').mean().plot()"
   ]
  },
  {
   "cell_type": "code",
   "execution_count": 38,
   "metadata": {},
   "outputs": [
    {
     "data": {
      "text/plain": [
       "Date\n",
       "2018-09-30    AxesSubplot(0.125,0.2;0.775x0.68)\n",
       "2018-12-31    AxesSubplot(0.125,0.2;0.775x0.68)\n",
       "2019-03-31    AxesSubplot(0.125,0.2;0.775x0.68)\n",
       "2019-06-30    AxesSubplot(0.125,0.2;0.775x0.68)\n",
       "2019-09-30    AxesSubplot(0.125,0.2;0.775x0.68)\n",
       "Freq: Q-DEC, Name: Close, dtype: object"
      ]
     },
     "execution_count": 38,
     "metadata": {},
     "output_type": "execute_result"
    },
    {
     "data": {
      "image/png": "[encoded data removed]",
      "text/plain": [
       "<Figure size 432x288 with 1 Axes>"
      ]
     },
     "metadata": {
      "needs_background": "light"
     },
     "output_type": "display_data"
    }
   ],
   "source": [
    "# By Quarter\n",
    "df.Close.resample(\"Q\").plot()\n",
    "\n",
    "#BY Week\n",
    "#df.Close.resample(\"W\").plot() "
   ]
  }
 ],
 "metadata": {
  "anaconda-cloud": {},
  "kernelspec": {
   "display_name": "Python 3",
   "language": "python",
   "name": "python3"
  },
  "language_info": {
   "codemirror_mode": {
    "name": "ipython",
    "version": 3
   },
   "file_extension": ".py",
   "mimetype": "text/x-python",
   "name": "python",
   "nbconvert_exporter": "python",
   "pygments_lexer": "ipython3",
   "version": "3.7.3"
  }
 },
 "nbformat": 4,
 "nbformat_minor": 1
}
